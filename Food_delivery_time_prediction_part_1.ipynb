{
 "cells": [
  {
   "cell_type": "code",
   "execution_count": 141,
   "metadata": {
    "id": "Gg-8Gc_bBJtv"
   },
   "outputs": [],
   "source": [
    "import pandas as pd\n",
    "import io\n",
    "import numpy as np\n",
    "import seaborn as sns\n",
    "import matplotlib.pyplot as plt\n",
    "from sklearn.preprocessing import StandardScaler, OrdinalEncoder\n",
    "from sklearn.model_selection import GridSearchCV\n",
    "from sklearn.linear_model import Ridge\n",
    "from sklearn.linear_model import Lasso\n",
    "from sklearn.linear_model import ElasticNet\n",
    "from sklearn.metrics import mean_squared_error, mean_absolute_error, r2_score\n",
    "from sklearn.model_selection import GridSearchCV\n",
    "from sklearn.metrics import root_mean_squared_error"
   ]
  },
  {
   "cell_type": "code",
   "execution_count": 142,
   "metadata": {
    "id": "zgswWXQBDstw"
   },
   "outputs": [],
   "source": [
    "df = pd.read_csv(\"D:\\\\Level 3\\\\Semester 2\\\\DS-3003 Machine Learning 1\\\\Project2\\\\Data set\\\\Food_Delivery_Times.csv\",index_col='Order_ID')\n"
   ]
  },
  {
   "cell_type": "code",
   "execution_count": 143,
   "metadata": {
    "colab": {
     "base_uri": "https://localhost:8080/"
    },
    "id": "oyy-PnXzFZ-q",
    "outputId": "927f3717-d390-415f-fe7e-baf8f2e55799"
   },
   "outputs": [
    {
     "name": "stdout",
     "output_type": "stream",
     "text": [
      "<class 'pandas.core.frame.DataFrame'>\n",
      "Index: 1000 entries, 522 to 103\n",
      "Data columns (total 8 columns):\n",
      " #   Column                  Non-Null Count  Dtype  \n",
      "---  ------                  --------------  -----  \n",
      " 0   Distance_km             1000 non-null   float64\n",
      " 1   Weather                 970 non-null    object \n",
      " 2   Traffic_Level           970 non-null    object \n",
      " 3   Time_of_Day             970 non-null    object \n",
      " 4   Vehicle_Type            1000 non-null   object \n",
      " 5   Preparation_Time_min    1000 non-null   int64  \n",
      " 6   Courier_Experience_yrs  970 non-null    float64\n",
      " 7   Delivery_Time_min       1000 non-null   int64  \n",
      "dtypes: float64(2), int64(2), object(4)\n",
      "memory usage: 70.3+ KB\n"
     ]
    }
   ],
   "source": [
    "df.info()"
   ]
  },
  {
   "cell_type": "code",
   "execution_count": 144,
   "metadata": {
    "colab": {
     "base_uri": "https://localhost:8080/",
     "height": 257
    },
    "id": "P5wVjBQVFeBd",
    "outputId": "a287f2e6-9155-4684-ff19-b94d894ee5fb"
   },
   "outputs": [
    {
     "data": {
      "text/html": [
       "<div>\n",
       "<style scoped>\n",
       "    .dataframe tbody tr th:only-of-type {\n",
       "        vertical-align: middle;\n",
       "    }\n",
       "\n",
       "    .dataframe tbody tr th {\n",
       "        vertical-align: top;\n",
       "    }\n",
       "\n",
       "    .dataframe thead th {\n",
       "        text-align: right;\n",
       "    }\n",
       "</style>\n",
       "<table border=\"1\" class=\"dataframe\">\n",
       "  <thead>\n",
       "    <tr style=\"text-align: right;\">\n",
       "      <th></th>\n",
       "      <th>Distance_km</th>\n",
       "      <th>Weather</th>\n",
       "      <th>Traffic_Level</th>\n",
       "      <th>Time_of_Day</th>\n",
       "      <th>Vehicle_Type</th>\n",
       "      <th>Preparation_Time_min</th>\n",
       "      <th>Courier_Experience_yrs</th>\n",
       "      <th>Delivery_Time_min</th>\n",
       "    </tr>\n",
       "    <tr>\n",
       "      <th>Order_ID</th>\n",
       "      <th></th>\n",
       "      <th></th>\n",
       "      <th></th>\n",
       "      <th></th>\n",
       "      <th></th>\n",
       "      <th></th>\n",
       "      <th></th>\n",
       "      <th></th>\n",
       "    </tr>\n",
       "  </thead>\n",
       "  <tbody>\n",
       "    <tr>\n",
       "      <th>522</th>\n",
       "      <td>7.93</td>\n",
       "      <td>Windy</td>\n",
       "      <td>Low</td>\n",
       "      <td>Afternoon</td>\n",
       "      <td>Scooter</td>\n",
       "      <td>12</td>\n",
       "      <td>1.0</td>\n",
       "      <td>43</td>\n",
       "    </tr>\n",
       "    <tr>\n",
       "      <th>738</th>\n",
       "      <td>16.42</td>\n",
       "      <td>Clear</td>\n",
       "      <td>Medium</td>\n",
       "      <td>Evening</td>\n",
       "      <td>Bike</td>\n",
       "      <td>20</td>\n",
       "      <td>2.0</td>\n",
       "      <td>84</td>\n",
       "    </tr>\n",
       "    <tr>\n",
       "      <th>741</th>\n",
       "      <td>9.52</td>\n",
       "      <td>Foggy</td>\n",
       "      <td>Low</td>\n",
       "      <td>Night</td>\n",
       "      <td>Scooter</td>\n",
       "      <td>28</td>\n",
       "      <td>1.0</td>\n",
       "      <td>59</td>\n",
       "    </tr>\n",
       "    <tr>\n",
       "      <th>661</th>\n",
       "      <td>7.44</td>\n",
       "      <td>Rainy</td>\n",
       "      <td>Medium</td>\n",
       "      <td>Afternoon</td>\n",
       "      <td>Scooter</td>\n",
       "      <td>5</td>\n",
       "      <td>1.0</td>\n",
       "      <td>37</td>\n",
       "    </tr>\n",
       "    <tr>\n",
       "      <th>412</th>\n",
       "      <td>19.03</td>\n",
       "      <td>Clear</td>\n",
       "      <td>Low</td>\n",
       "      <td>Morning</td>\n",
       "      <td>Bike</td>\n",
       "      <td>16</td>\n",
       "      <td>5.0</td>\n",
       "      <td>68</td>\n",
       "    </tr>\n",
       "  </tbody>\n",
       "</table>\n",
       "</div>"
      ],
      "text/plain": [
       "          Distance_km Weather Traffic_Level Time_of_Day Vehicle_Type  \\\n",
       "Order_ID                                                               \n",
       "522              7.93   Windy           Low   Afternoon      Scooter   \n",
       "738             16.42   Clear        Medium     Evening         Bike   \n",
       "741              9.52   Foggy           Low       Night      Scooter   \n",
       "661              7.44   Rainy        Medium   Afternoon      Scooter   \n",
       "412             19.03   Clear           Low     Morning         Bike   \n",
       "\n",
       "          Preparation_Time_min  Courier_Experience_yrs  Delivery_Time_min  \n",
       "Order_ID                                                                   \n",
       "522                         12                     1.0                 43  \n",
       "738                         20                     2.0                 84  \n",
       "741                         28                     1.0                 59  \n",
       "661                          5                     1.0                 37  \n",
       "412                         16                     5.0                 68  "
      ]
     },
     "execution_count": 144,
     "metadata": {},
     "output_type": "execute_result"
    }
   ],
   "source": [
    "df.head()"
   ]
  },
  {
   "cell_type": "code",
   "execution_count": 145,
   "metadata": {
    "id": "7MbR06ioFkbf"
   },
   "outputs": [],
   "source": [
    "from sklearn.model_selection import train_test_split\n",
    "train_df, test_df = train_test_split(df, test_size=0.3, random_state=3003)"
   ]
  },
  {
   "cell_type": "code",
   "execution_count": 146,
   "metadata": {
    "colab": {
     "base_uri": "https://localhost:8080/"
    },
    "id": "paahQoY0GLGx",
    "outputId": "95998dbb-7e65-4e22-ccd4-014ffddca0fa"
   },
   "outputs": [
    {
     "name": "stdout",
     "output_type": "stream",
     "text": [
      "<class 'pandas.core.frame.DataFrame'>\n",
      "Index: 700 entries, 913 to 355\n",
      "Data columns (total 8 columns):\n",
      " #   Column                  Non-Null Count  Dtype  \n",
      "---  ------                  --------------  -----  \n",
      " 0   Distance_km             700 non-null    float64\n",
      " 1   Weather                 679 non-null    object \n",
      " 2   Traffic_Level           679 non-null    object \n",
      " 3   Time_of_Day             684 non-null    object \n",
      " 4   Vehicle_Type            700 non-null    object \n",
      " 5   Preparation_Time_min    700 non-null    int64  \n",
      " 6   Courier_Experience_yrs  683 non-null    float64\n",
      " 7   Delivery_Time_min       700 non-null    int64  \n",
      "dtypes: float64(2), int64(2), object(4)\n",
      "memory usage: 49.2+ KB\n"
     ]
    }
   ],
   "source": [
    "train_df.info()"
   ]
  },
  {
   "cell_type": "code",
   "execution_count": 147,
   "metadata": {
    "colab": {
     "base_uri": "https://localhost:8080/"
    },
    "id": "9TTHkQAeJkMz",
    "outputId": "8c5abd2b-5367-43b1-8133-1ff2011bc073"
   },
   "outputs": [
    {
     "data": {
      "text/plain": [
       "False"
      ]
     },
     "execution_count": 147,
     "metadata": {},
     "output_type": "execute_result"
    }
   ],
   "source": [
    "train_df.duplicated().any()"
   ]
  },
  {
   "cell_type": "code",
   "execution_count": 148,
   "metadata": {
    "colab": {
     "base_uri": "https://localhost:8080/",
     "height": 335
    },
    "id": "7sHsX-6aJ4fa",
    "outputId": "521966e6-0899-4239-b58f-d4fc0e322679"
   },
   "outputs": [
    {
     "data": {
      "text/plain": [
       "Distance_km                0\n",
       "Weather                   21\n",
       "Traffic_Level             21\n",
       "Time_of_Day               16\n",
       "Vehicle_Type               0\n",
       "Preparation_Time_min       0\n",
       "Courier_Experience_yrs    17\n",
       "Delivery_Time_min          0\n",
       "dtype: int64"
      ]
     },
     "execution_count": 148,
     "metadata": {},
     "output_type": "execute_result"
    }
   ],
   "source": [
    "train_df.isna().sum()"
   ]
  },
  {
   "cell_type": "code",
   "execution_count": 149,
   "metadata": {
    "colab": {
     "base_uri": "https://localhost:8080/"
    },
    "id": "An8MjkQSKXIc",
    "outputId": "1a5ed226-a89d-4750-ddd9-077dbf38d10a"
   },
   "outputs": [
    {
     "name": "stdout",
     "output_type": "stream",
     "text": [
      "Clear\n",
      "Medium\n",
      "Morning\n"
     ]
    }
   ],
   "source": [
    "weather_mode=train_df['Weather'].value_counts().idxmax()\n",
    "print(weather_mode)\n",
    "train_df['Weather']=train_df['Weather'].fillna(weather_mode)\n",
    "test_df['Weather']=test_df['Weather'].fillna(weather_mode)\n",
    "trafficlevel_mode=train_df['Traffic_Level'].value_counts().idxmax()\n",
    "print(trafficlevel_mode)\n",
    "train_df['Traffic_Level']=train_df['Traffic_Level'].fillna(trafficlevel_mode)\n",
    "test_df['Traffic_Level']=test_df['Traffic_Level'].fillna(trafficlevel_mode)\n",
    "timeofday_mode=train_df['Time_of_Day'].value_counts().idxmax()\n",
    "print(timeofday_mode)\n",
    "train_df['Time_of_Day']=train_df['Time_of_Day'].fillna(timeofday_mode)\n",
    "test_df['Time_of_Day']=test_df['Time_of_Day'].fillna(timeofday_mode)"
   ]
  },
  {
   "cell_type": "code",
   "execution_count": 150,
   "metadata": {
    "colab": {
     "base_uri": "https://localhost:8080/"
    },
    "id": "tH_ckZP1LcNd",
    "outputId": "248a0dfb-e4ee-4f69-ab53-f2bf68137ec4"
   },
   "outputs": [
    {
     "name": "stdout",
     "output_type": "stream",
     "text": [
      "<class 'pandas.core.frame.DataFrame'>\n",
      "Index: 700 entries, 913 to 355\n",
      "Data columns (total 8 columns):\n",
      " #   Column                  Non-Null Count  Dtype  \n",
      "---  ------                  --------------  -----  \n",
      " 0   Distance_km             700 non-null    float64\n",
      " 1   Weather                 700 non-null    object \n",
      " 2   Traffic_Level           700 non-null    object \n",
      " 3   Time_of_Day             700 non-null    object \n",
      " 4   Vehicle_Type            700 non-null    object \n",
      " 5   Preparation_Time_min    700 non-null    int64  \n",
      " 6   Courier_Experience_yrs  683 non-null    float64\n",
      " 7   Delivery_Time_min       700 non-null    int64  \n",
      "dtypes: float64(2), int64(2), object(4)\n",
      "memory usage: 49.2+ KB\n"
     ]
    }
   ],
   "source": [
    "train_df.info()"
   ]
  },
  {
   "cell_type": "code",
   "execution_count": 151,
   "metadata": {
    "id": "PCTT-uzRVqDF"
   },
   "outputs": [],
   "source": [
    "train_df['Courier_Experience_yrs'].nunique()\n",
    "experience_mode=train_df['Courier_Experience_yrs'].mode()[0]\n",
    "train_df['Courier_Experience_yrs']=train_df['Courier_Experience_yrs'].fillna(experience_mode)\n",
    "test_df['Courier_Experience_yrs']=test_df['Courier_Experience_yrs'].fillna(experience_mode)"
   ]
  },
  {
   "cell_type": "code",
   "execution_count": 152,
   "metadata": {
    "colab": {
     "base_uri": "https://localhost:8080/"
    },
    "id": "3DPMjBUnW65d",
    "outputId": "07d30382-efed-4c47-935e-0a84b6d120cb"
   },
   "outputs": [
    {
     "name": "stdout",
     "output_type": "stream",
     "text": [
      "<class 'pandas.core.frame.DataFrame'>\n",
      "Index: 700 entries, 913 to 355\n",
      "Data columns (total 8 columns):\n",
      " #   Column                  Non-Null Count  Dtype  \n",
      "---  ------                  --------------  -----  \n",
      " 0   Distance_km             700 non-null    float64\n",
      " 1   Weather                 700 non-null    object \n",
      " 2   Traffic_Level           700 non-null    object \n",
      " 3   Time_of_Day             700 non-null    object \n",
      " 4   Vehicle_Type            700 non-null    object \n",
      " 5   Preparation_Time_min    700 non-null    int64  \n",
      " 6   Courier_Experience_yrs  700 non-null    float64\n",
      " 7   Delivery_Time_min       700 non-null    int64  \n",
      "dtypes: float64(2), int64(2), object(4)\n",
      "memory usage: 49.2+ KB\n"
     ]
    }
   ],
   "source": [
    "train_df.info()"
   ]
  },
  {
   "cell_type": "code",
   "execution_count": 153,
   "metadata": {},
   "outputs": [
    {
     "name": "stdout",
     "output_type": "stream",
     "text": [
      "<class 'pandas.core.frame.DataFrame'>\n",
      "Index: 300 entries, 378 to 446\n",
      "Data columns (total 8 columns):\n",
      " #   Column                  Non-Null Count  Dtype  \n",
      "---  ------                  --------------  -----  \n",
      " 0   Distance_km             300 non-null    float64\n",
      " 1   Weather                 300 non-null    object \n",
      " 2   Traffic_Level           300 non-null    object \n",
      " 3   Time_of_Day             300 non-null    object \n",
      " 4   Vehicle_Type            300 non-null    object \n",
      " 5   Preparation_Time_min    300 non-null    int64  \n",
      " 6   Courier_Experience_yrs  300 non-null    float64\n",
      " 7   Delivery_Time_min       300 non-null    int64  \n",
      "dtypes: float64(2), int64(2), object(4)\n",
      "memory usage: 21.1+ KB\n"
     ]
    }
   ],
   "source": [
    "test_df.info()"
   ]
  },
  {
   "cell_type": "code",
   "execution_count": 154,
   "metadata": {
    "id": "3FsEv2fVLCr7"
   },
   "outputs": [],
   "source": [
    "hot_cols = ['Weather' , 'Vehicle_Type' , 'Time_of_Day']"
   ]
  },
  {
   "cell_type": "code",
   "execution_count": 155,
   "metadata": {
    "colab": {
     "base_uri": "https://localhost:8080/",
     "height": 394
    },
    "id": "t4YXtp5K1_pK",
    "outputId": "ce47dfa7-2733-4a34-d8d3-7ce178f69b36"
   },
   "outputs": [],
   "source": [
    "train_df = pd.get_dummies(train_df, columns=hot_cols, drop_first=True,  dtype=int)\n",
    "test_df = pd.get_dummies(test_df, columns=hot_cols, drop_first=True,  dtype=int)"
   ]
  },
  {
   "cell_type": "code",
   "execution_count": 156,
   "metadata": {
    "colab": {
     "base_uri": "https://localhost:8080/"
    },
    "id": "Zn-SmmQN6jHL",
    "outputId": "3d5a8f60-9012-4415-b588-8c09faaa0984"
   },
   "outputs": [
    {
     "data": {
      "text/html": [
       "<div>\n",
       "<style scoped>\n",
       "    .dataframe tbody tr th:only-of-type {\n",
       "        vertical-align: middle;\n",
       "    }\n",
       "\n",
       "    .dataframe tbody tr th {\n",
       "        vertical-align: top;\n",
       "    }\n",
       "\n",
       "    .dataframe thead th {\n",
       "        text-align: right;\n",
       "    }\n",
       "</style>\n",
       "<table border=\"1\" class=\"dataframe\">\n",
       "  <thead>\n",
       "    <tr style=\"text-align: right;\">\n",
       "      <th></th>\n",
       "      <th>Distance_km</th>\n",
       "      <th>Traffic_Level</th>\n",
       "      <th>Preparation_Time_min</th>\n",
       "      <th>Courier_Experience_yrs</th>\n",
       "      <th>Delivery_Time_min</th>\n",
       "      <th>Weather_Foggy</th>\n",
       "      <th>Weather_Rainy</th>\n",
       "      <th>Weather_Snowy</th>\n",
       "      <th>Weather_Windy</th>\n",
       "      <th>Vehicle_Type_Car</th>\n",
       "      <th>Vehicle_Type_Scooter</th>\n",
       "      <th>Time_of_Day_Evening</th>\n",
       "      <th>Time_of_Day_Morning</th>\n",
       "      <th>Time_of_Day_Night</th>\n",
       "    </tr>\n",
       "    <tr>\n",
       "      <th>Order_ID</th>\n",
       "      <th></th>\n",
       "      <th></th>\n",
       "      <th></th>\n",
       "      <th></th>\n",
       "      <th></th>\n",
       "      <th></th>\n",
       "      <th></th>\n",
       "      <th></th>\n",
       "      <th></th>\n",
       "      <th></th>\n",
       "      <th></th>\n",
       "      <th></th>\n",
       "      <th></th>\n",
       "      <th></th>\n",
       "    </tr>\n",
       "  </thead>\n",
       "  <tbody>\n",
       "    <tr>\n",
       "      <th>913</th>\n",
       "      <td>12.67</td>\n",
       "      <td>Medium</td>\n",
       "      <td>7</td>\n",
       "      <td>3.0</td>\n",
       "      <td>43</td>\n",
       "      <td>0</td>\n",
       "      <td>0</td>\n",
       "      <td>0</td>\n",
       "      <td>1</td>\n",
       "      <td>0</td>\n",
       "      <td>1</td>\n",
       "      <td>0</td>\n",
       "      <td>1</td>\n",
       "      <td>0</td>\n",
       "    </tr>\n",
       "    <tr>\n",
       "      <th>553</th>\n",
       "      <td>11.26</td>\n",
       "      <td>High</td>\n",
       "      <td>14</td>\n",
       "      <td>2.0</td>\n",
       "      <td>70</td>\n",
       "      <td>1</td>\n",
       "      <td>0</td>\n",
       "      <td>0</td>\n",
       "      <td>0</td>\n",
       "      <td>0</td>\n",
       "      <td>0</td>\n",
       "      <td>0</td>\n",
       "      <td>0</td>\n",
       "      <td>0</td>\n",
       "    </tr>\n",
       "    <tr>\n",
       "      <th>552</th>\n",
       "      <td>17.12</td>\n",
       "      <td>Low</td>\n",
       "      <td>26</td>\n",
       "      <td>3.0</td>\n",
       "      <td>86</td>\n",
       "      <td>0</td>\n",
       "      <td>1</td>\n",
       "      <td>0</td>\n",
       "      <td>0</td>\n",
       "      <td>0</td>\n",
       "      <td>0</td>\n",
       "      <td>0</td>\n",
       "      <td>1</td>\n",
       "      <td>0</td>\n",
       "    </tr>\n",
       "    <tr>\n",
       "      <th>812</th>\n",
       "      <td>16.86</td>\n",
       "      <td>Medium</td>\n",
       "      <td>13</td>\n",
       "      <td>4.0</td>\n",
       "      <td>88</td>\n",
       "      <td>0</td>\n",
       "      <td>0</td>\n",
       "      <td>1</td>\n",
       "      <td>0</td>\n",
       "      <td>1</td>\n",
       "      <td>0</td>\n",
       "      <td>0</td>\n",
       "      <td>0</td>\n",
       "      <td>0</td>\n",
       "    </tr>\n",
       "    <tr>\n",
       "      <th>821</th>\n",
       "      <td>16.16</td>\n",
       "      <td>High</td>\n",
       "      <td>11</td>\n",
       "      <td>1.0</td>\n",
       "      <td>82</td>\n",
       "      <td>0</td>\n",
       "      <td>0</td>\n",
       "      <td>0</td>\n",
       "      <td>0</td>\n",
       "      <td>0</td>\n",
       "      <td>0</td>\n",
       "      <td>0</td>\n",
       "      <td>0</td>\n",
       "      <td>0</td>\n",
       "    </tr>\n",
       "  </tbody>\n",
       "</table>\n",
       "</div>"
      ],
      "text/plain": [
       "          Distance_km Traffic_Level  Preparation_Time_min  \\\n",
       "Order_ID                                                    \n",
       "913             12.67        Medium                     7   \n",
       "553             11.26          High                    14   \n",
       "552             17.12           Low                    26   \n",
       "812             16.86        Medium                    13   \n",
       "821             16.16          High                    11   \n",
       "\n",
       "          Courier_Experience_yrs  Delivery_Time_min  Weather_Foggy  \\\n",
       "Order_ID                                                             \n",
       "913                          3.0                 43              0   \n",
       "553                          2.0                 70              1   \n",
       "552                          3.0                 86              0   \n",
       "812                          4.0                 88              0   \n",
       "821                          1.0                 82              0   \n",
       "\n",
       "          Weather_Rainy  Weather_Snowy  Weather_Windy  Vehicle_Type_Car  \\\n",
       "Order_ID                                                                  \n",
       "913                   0              0              1                 0   \n",
       "553                   0              0              0                 0   \n",
       "552                   1              0              0                 0   \n",
       "812                   0              1              0                 1   \n",
       "821                   0              0              0                 0   \n",
       "\n",
       "          Vehicle_Type_Scooter  Time_of_Day_Evening  Time_of_Day_Morning  \\\n",
       "Order_ID                                                                   \n",
       "913                          1                    0                    1   \n",
       "553                          0                    0                    0   \n",
       "552                          0                    0                    1   \n",
       "812                          0                    0                    0   \n",
       "821                          0                    0                    0   \n",
       "\n",
       "          Time_of_Day_Night  \n",
       "Order_ID                     \n",
       "913                       0  \n",
       "553                       0  \n",
       "552                       0  \n",
       "812                       0  \n",
       "821                       0  "
      ]
     },
     "execution_count": 156,
     "metadata": {},
     "output_type": "execute_result"
    }
   ],
   "source": [
    "train_df.head()"
   ]
  },
  {
   "cell_type": "code",
   "execution_count": 157,
   "metadata": {},
   "outputs": [],
   "source": [
    "traffic_levels = [['Low', 'Medium', 'High']] \n",
    "ordinal_encoder = OrdinalEncoder(categories=traffic_levels)\n",
    "\n",
    "# Apply encoding to both train and test datasets\n",
    "train_df[['Traffic_Level']] = ordinal_encoder.fit_transform(train_df[['Traffic_Level']])\n",
    "test_df[['Traffic_Level']] = ordinal_encoder.transform(test_df[['Traffic_Level']])"
   ]
  },
  {
   "cell_type": "code",
   "execution_count": 158,
   "metadata": {},
   "outputs": [
    {
     "data": {
      "text/html": [
       "<div>\n",
       "<style scoped>\n",
       "    .dataframe tbody tr th:only-of-type {\n",
       "        vertical-align: middle;\n",
       "    }\n",
       "\n",
       "    .dataframe tbody tr th {\n",
       "        vertical-align: top;\n",
       "    }\n",
       "\n",
       "    .dataframe thead th {\n",
       "        text-align: right;\n",
       "    }\n",
       "</style>\n",
       "<table border=\"1\" class=\"dataframe\">\n",
       "  <thead>\n",
       "    <tr style=\"text-align: right;\">\n",
       "      <th></th>\n",
       "      <th>Distance_km</th>\n",
       "      <th>Traffic_Level</th>\n",
       "      <th>Preparation_Time_min</th>\n",
       "      <th>Courier_Experience_yrs</th>\n",
       "      <th>Delivery_Time_min</th>\n",
       "      <th>Weather_Foggy</th>\n",
       "      <th>Weather_Rainy</th>\n",
       "      <th>Weather_Snowy</th>\n",
       "      <th>Weather_Windy</th>\n",
       "      <th>Vehicle_Type_Car</th>\n",
       "      <th>Vehicle_Type_Scooter</th>\n",
       "      <th>Time_of_Day_Evening</th>\n",
       "      <th>Time_of_Day_Morning</th>\n",
       "      <th>Time_of_Day_Night</th>\n",
       "    </tr>\n",
       "    <tr>\n",
       "      <th>Order_ID</th>\n",
       "      <th></th>\n",
       "      <th></th>\n",
       "      <th></th>\n",
       "      <th></th>\n",
       "      <th></th>\n",
       "      <th></th>\n",
       "      <th></th>\n",
       "      <th></th>\n",
       "      <th></th>\n",
       "      <th></th>\n",
       "      <th></th>\n",
       "      <th></th>\n",
       "      <th></th>\n",
       "      <th></th>\n",
       "    </tr>\n",
       "  </thead>\n",
       "  <tbody>\n",
       "    <tr>\n",
       "      <th>913</th>\n",
       "      <td>12.67</td>\n",
       "      <td>1.0</td>\n",
       "      <td>7</td>\n",
       "      <td>3.0</td>\n",
       "      <td>43</td>\n",
       "      <td>0</td>\n",
       "      <td>0</td>\n",
       "      <td>0</td>\n",
       "      <td>1</td>\n",
       "      <td>0</td>\n",
       "      <td>1</td>\n",
       "      <td>0</td>\n",
       "      <td>1</td>\n",
       "      <td>0</td>\n",
       "    </tr>\n",
       "    <tr>\n",
       "      <th>553</th>\n",
       "      <td>11.26</td>\n",
       "      <td>2.0</td>\n",
       "      <td>14</td>\n",
       "      <td>2.0</td>\n",
       "      <td>70</td>\n",
       "      <td>1</td>\n",
       "      <td>0</td>\n",
       "      <td>0</td>\n",
       "      <td>0</td>\n",
       "      <td>0</td>\n",
       "      <td>0</td>\n",
       "      <td>0</td>\n",
       "      <td>0</td>\n",
       "      <td>0</td>\n",
       "    </tr>\n",
       "    <tr>\n",
       "      <th>552</th>\n",
       "      <td>17.12</td>\n",
       "      <td>0.0</td>\n",
       "      <td>26</td>\n",
       "      <td>3.0</td>\n",
       "      <td>86</td>\n",
       "      <td>0</td>\n",
       "      <td>1</td>\n",
       "      <td>0</td>\n",
       "      <td>0</td>\n",
       "      <td>0</td>\n",
       "      <td>0</td>\n",
       "      <td>0</td>\n",
       "      <td>1</td>\n",
       "      <td>0</td>\n",
       "    </tr>\n",
       "    <tr>\n",
       "      <th>812</th>\n",
       "      <td>16.86</td>\n",
       "      <td>1.0</td>\n",
       "      <td>13</td>\n",
       "      <td>4.0</td>\n",
       "      <td>88</td>\n",
       "      <td>0</td>\n",
       "      <td>0</td>\n",
       "      <td>1</td>\n",
       "      <td>0</td>\n",
       "      <td>1</td>\n",
       "      <td>0</td>\n",
       "      <td>0</td>\n",
       "      <td>0</td>\n",
       "      <td>0</td>\n",
       "    </tr>\n",
       "    <tr>\n",
       "      <th>821</th>\n",
       "      <td>16.16</td>\n",
       "      <td>2.0</td>\n",
       "      <td>11</td>\n",
       "      <td>1.0</td>\n",
       "      <td>82</td>\n",
       "      <td>0</td>\n",
       "      <td>0</td>\n",
       "      <td>0</td>\n",
       "      <td>0</td>\n",
       "      <td>0</td>\n",
       "      <td>0</td>\n",
       "      <td>0</td>\n",
       "      <td>0</td>\n",
       "      <td>0</td>\n",
       "    </tr>\n",
       "  </tbody>\n",
       "</table>\n",
       "</div>"
      ],
      "text/plain": [
       "          Distance_km  Traffic_Level  Preparation_Time_min  \\\n",
       "Order_ID                                                     \n",
       "913             12.67            1.0                     7   \n",
       "553             11.26            2.0                    14   \n",
       "552             17.12            0.0                    26   \n",
       "812             16.86            1.0                    13   \n",
       "821             16.16            2.0                    11   \n",
       "\n",
       "          Courier_Experience_yrs  Delivery_Time_min  Weather_Foggy  \\\n",
       "Order_ID                                                             \n",
       "913                          3.0                 43              0   \n",
       "553                          2.0                 70              1   \n",
       "552                          3.0                 86              0   \n",
       "812                          4.0                 88              0   \n",
       "821                          1.0                 82              0   \n",
       "\n",
       "          Weather_Rainy  Weather_Snowy  Weather_Windy  Vehicle_Type_Car  \\\n",
       "Order_ID                                                                  \n",
       "913                   0              0              1                 0   \n",
       "553                   0              0              0                 0   \n",
       "552                   1              0              0                 0   \n",
       "812                   0              1              0                 1   \n",
       "821                   0              0              0                 0   \n",
       "\n",
       "          Vehicle_Type_Scooter  Time_of_Day_Evening  Time_of_Day_Morning  \\\n",
       "Order_ID                                                                   \n",
       "913                          1                    0                    1   \n",
       "553                          0                    0                    0   \n",
       "552                          0                    0                    1   \n",
       "812                          0                    0                    0   \n",
       "821                          0                    0                    0   \n",
       "\n",
       "          Time_of_Day_Night  \n",
       "Order_ID                     \n",
       "913                       0  \n",
       "553                       0  \n",
       "552                       0  \n",
       "812                       0  \n",
       "821                       0  "
      ]
     },
     "execution_count": 158,
     "metadata": {},
     "output_type": "execute_result"
    }
   ],
   "source": [
    "train_df.head()"
   ]
  },
  {
   "cell_type": "code",
   "execution_count": 159,
   "metadata": {},
   "outputs": [
    {
     "data": {
      "text/plain": [
       "Distance_km               0\n",
       "Traffic_Level             0\n",
       "Preparation_Time_min      0\n",
       "Courier_Experience_yrs    0\n",
       "Delivery_Time_min         0\n",
       "Weather_Foggy             0\n",
       "Weather_Rainy             0\n",
       "Weather_Snowy             0\n",
       "Weather_Windy             0\n",
       "Vehicle_Type_Car          0\n",
       "Vehicle_Type_Scooter      0\n",
       "Time_of_Day_Evening       0\n",
       "Time_of_Day_Morning       0\n",
       "Time_of_Day_Night         0\n",
       "dtype: int64"
      ]
     },
     "execution_count": 159,
     "metadata": {},
     "output_type": "execute_result"
    }
   ],
   "source": [
    "train_df.isnull().sum()"
   ]
  },
  {
   "cell_type": "code",
   "execution_count": 160,
   "metadata": {
    "id": "lMAc3Ood8l3G"
   },
   "outputs": [],
   "source": [
    "x_train=train_df[['Distance_km', 'Preparation_Time_min', 'Courier_Experience_yrs', 'Weather_Foggy', 'Weather_Rainy', 'Weather_Snowy',\n",
    "       'Weather_Windy', 'Time_of_Day_Evening', 'Time_of_Day_Morning',\n",
    "       'Time_of_Day_Night', 'Vehicle_Type_Car', 'Vehicle_Type_Scooter',\n",
    "       'Traffic_Level']]\n",
    "y_train=train_df['Delivery_Time_min']\n",
    "\n",
    "x_test=test_df[['Distance_km', 'Preparation_Time_min', 'Courier_Experience_yrs', 'Weather_Foggy', 'Weather_Rainy', 'Weather_Snowy',\n",
    "       'Weather_Windy', 'Time_of_Day_Evening', 'Time_of_Day_Morning',\n",
    "       'Time_of_Day_Night', 'Vehicle_Type_Car', 'Vehicle_Type_Scooter',\n",
    "       'Traffic_Level']]\n",
    "y_test=test_df['Delivery_Time_min']"
   ]
  },
  {
   "cell_type": "code",
   "execution_count": 161,
   "metadata": {},
   "outputs": [],
   "source": [
    "## Scaling\n",
    "\n",
    "scaler = StandardScaler()\n",
    "scaler.fit(x_train)\n",
    "scaler.fit(x_test)\n",
    "# Transform features\n",
    "X_train_scaled = scaler.transform(x_train)\n",
    "X_test_scaled = scaler.transform(x_test)"
   ]
  },
  {
   "cell_type": "code",
   "execution_count": 162,
   "metadata": {},
   "outputs": [],
   "source": [
    "y_train_log = np.log1p(y_train)\n",
    "y_test_log = np.log1p(y_test)"
   ]
  },
  {
   "cell_type": "code",
   "execution_count": 163,
   "metadata": {},
   "outputs": [
    {
     "data": {
      "image/png": "[encoded data removed]",
      "text/plain": [
       "<Figure size 800x500 with 1 Axes>"
      ]
     },
     "metadata": {},
     "output_type": "display_data"
    }
   ],
   "source": [
    "# Plot histogram\n",
    "plt.figure(figsize=(8, 5))\n",
    "sns.histplot(y_train_log, bins=30, kde=True, color='blue')\n",
    "\n",
    "# Titles and labels\n",
    "plt.title(\"Histogram of Log-Transformed Y\", fontsize=14)\n",
    "plt.xlabel(\"Log(Y)\", fontsize=12)\n",
    "plt.ylabel(\"Frequency\", fontsize=12)\n",
    "plt.grid(True)\n",
    "\n",
    "# Show plot\n",
    "plt.show()"
   ]
  },
  {
   "cell_type": "code",
   "execution_count": 164,
   "metadata": {},
   "outputs": [],
   "source": [
    "from scipy.stats import boxcox\n",
    "\n",
    "# Apply Box-Cox transformation\n",
    "y_train_boxcox, lambda_train = boxcox(y_train)\n",
    "y_test_boxcox = boxcox(y_test, lmbda=lambda_train)"
   ]
  },
  {
   "cell_type": "code",
   "execution_count": 165,
   "metadata": {},
   "outputs": [
    {
     "data": {
      "image/png": "[encoded data removed]",
      "text/plain": [
       "<Figure size 800x500 with 1 Axes>"
      ]
     },
     "metadata": {},
     "output_type": "display_data"
    },
    {
     "name": "stdout",
     "output_type": "stream",
     "text": [
      "Optimal lambda for Box-Cox Transformation: 0.5102\n"
     ]
    }
   ],
   "source": [
    "# Plot histogram\n",
    "plt.figure(figsize=(8, 5))\n",
    "sns.histplot(y_train_boxcox, bins=30, kde=True, color='purple')\n",
    "\n",
    "# Titles and labels\n",
    "plt.title(\"Histogram of Box-Cox Transformed Y\", fontsize=14)\n",
    "plt.xlabel(\"Box-Cox(Y)\", fontsize=12)\n",
    "plt.ylabel(\"Frequency\", fontsize=12)\n",
    "plt.grid(True)\n",
    "\n",
    "# Show plot\n",
    "plt.show()\n",
    "\n",
    "# Print the lambda value used in Box-Cox\n",
    "print(f\"Optimal lambda for Box-Cox Transformation: {lambda_train:.4f}\")"
   ]
  },
  {
   "cell_type": "markdown",
   "metadata": {},
   "source": [
    "## Lasso Regression"
   ]
  },
  {
   "cell_type": "code",
   "execution_count": 166,
   "metadata": {
    "id": "bH8fyUNjLanE"
   },
   "outputs": [
    {
     "name": "stdout",
     "output_type": "stream",
     "text": [
      "Best parameters for Lasso Regression: {'alpha': 0.021209508879201904}\n",
      "Best score for Lasso Regression: -1.8802776052129335\n"
     ]
    }
   ],
   "source": [
    "# LASSO REGRESSION\n",
    "\n",
    "param_grid_lasso = {\n",
    "    'alpha': np.logspace(-4, 2, 50)\n",
    "}\n",
    "\n",
    "lasso_model_tuned = Lasso(max_iter=5000)\n",
    "grid_search_lasso = GridSearchCV(lasso_model_tuned, param_grid_lasso, cv=10, scoring='neg_mean_squared_error')\n",
    "grid_search_lasso.fit(X_train_scaled, y_train_boxcox)\n",
    "\n",
    "best_params_lasso = grid_search_lasso.best_params_\n",
    "best_score_lasso = grid_search_lasso.best_score_\n",
    "\n",
    "print(\"Best parameters for Lasso Regression:\", best_params_lasso)\n",
    "print(\"Best score for Lasso Regression:\", best_score_lasso)"
   ]
  },
  {
   "cell_type": "code",
   "execution_count": 167,
   "metadata": {},
   "outputs": [],
   "source": [
    "lasso_model_best = Lasso(**best_params_lasso,max_iter=5000)\n",
    "lasso_model_best.fit(X_train_scaled, y_train_boxcox)\n",
    "\n",
    "# Predictions on the training set\n",
    "lasso_train_predictions = lasso_model_best.predict(X_train_scaled)\n",
    "\n",
    "# Predictions on the test set\n",
    "lasso_test_predictions = lasso_model_best.predict(X_test_scaled)\n",
    "\n",
    "from scipy.special import inv_boxcox\n",
    "\n",
    "# Convert Lasso predictions back to the original scale\n",
    "lasso_train_predictions_original = inv_boxcox(lasso_train_predictions, lambda_train)\n",
    "lasso_test_predictions_original = inv_boxcox(lasso_test_predictions, lambda_train)"
   ]
  },
  {
   "cell_type": "code",
   "execution_count": 168,
   "metadata": {},
   "outputs": [
    {
     "name": "stdout",
     "output_type": "stream",
     "text": [
      "Lasso Regression Train MSE: 115.6406165729303\n",
      "Lasso Regression Train RMSE: 10.753632715177243\n",
      "Lasso Regression Train MAE: 6.683219648394058\n",
      "Lasso Regression Train R²: 0.7633999435040987\n",
      "Lasso Regression Test MSE: 115.46660375363135\n",
      "Lasso Regression Test RMSE: 10.745538783775867\n",
      "Lasso Regression Test MAE: 6.80883896384446\n",
      "Lasso Regression Test R²: 0.7597032060625948\n"
     ]
    }
   ],
   "source": [
    "# MSE for training and test sets\n",
    "lasso_train_mse = mean_squared_error(y_train, lasso_train_predictions_original)\n",
    "lasso_test_mse = mean_squared_error(y_test, lasso_test_predictions_original)\n",
    "\n",
    "# RMSE for training and test sets\n",
    "lasso_train_rmse = root_mean_squared_error(y_train, lasso_train_predictions_original)\n",
    "lasso_test_rmse = root_mean_squared_error(y_test, lasso_test_predictions_original)\n",
    "\n",
    "# MAE for training and test sets\n",
    "lasso_train_mae = mean_absolute_error(y_train, lasso_train_predictions_original)\n",
    "lasso_test_mae = mean_absolute_error(y_test, lasso_test_predictions_original)\n",
    "\n",
    "# R² for training and test sets\n",
    "lasso_train_r2 = r2_score(y_train, lasso_train_predictions_original)\n",
    "lasso_test_r2 = r2_score(y_test, lasso_test_predictions_original)\n",
    "\n",
    "\n",
    "print(\"Lasso Regression Train MSE:\", lasso_train_mse)\n",
    "print(\"Lasso Regression Train RMSE:\", lasso_train_rmse)\n",
    "print(\"Lasso Regression Train MAE:\", lasso_train_mae)\n",
    "print(\"Lasso Regression Train R²:\", lasso_train_r2)\n",
    "\n",
    "print(\"Lasso Regression Test MSE:\", lasso_test_mse)\n",
    "print(\"Lasso Regression Test RMSE:\", lasso_test_rmse)\n",
    "print(\"Lasso Regression Test MAE:\", lasso_test_mae)\n",
    "print(\"Lasso Regression Test R²:\", lasso_test_r2)"
   ]
  },
  {
   "cell_type": "code",
   "execution_count": 169,
   "metadata": {},
   "outputs": [
    {
     "name": "stdout",
     "output_type": "stream",
     "text": [
      "Number of non-zero coefficients: 11\n",
      "                   Feature  Coefficient\n",
      "0              Distance_km     2.393997\n",
      "1     Preparation_Time_min     0.985409\n",
      "12           Traffic_Level     0.644376\n",
      "5            Weather_Snowy     0.374396\n",
      "3            Weather_Foggy     0.269985\n",
      "4            Weather_Rainy     0.202115\n",
      "6            Weather_Windy     0.021697\n",
      "7      Time_of_Day_Evening     0.020022\n",
      "9        Time_of_Day_Night    -0.000000\n",
      "10        Vehicle_Type_Car     0.000000\n",
      "8      Time_of_Day_Morning    -0.005147\n",
      "11    Vehicle_Type_Scooter    -0.064250\n",
      "2   Courier_Experience_yrs    -0.254977\n"
     ]
    }
   ],
   "source": [
    "feature_names = x_train.columns  # Get feature names from DataFrame\n",
    "print(\"Number of non-zero coefficients:\", np.sum(lasso_model_best.coef_ != 0))\n",
    "lasso_coefficients = lasso_model_best.coef_  # Get LASSO coefficients\n",
    "lasso_results = pd.DataFrame({\n",
    "    'Feature': feature_names,\n",
    "    'Coefficient': lasso_coefficients\n",
    "})\n",
    "\n",
    "# Sort by absolute coefficient values (important features first)\n",
    "lasso_results = lasso_results.sort_values(by=\"Coefficient\", ascending=False)\n",
    "\n",
    "print(lasso_results)\n"
   ]
  },
  {
   "cell_type": "code",
   "execution_count": 170,
   "metadata": {},
   "outputs": [
    {
     "data": {
      "image/png": "[encoded data removed]",
      "text/plain": [
       "<Figure size 1000x500 with 1 Axes>"
      ]
     },
     "metadata": {},
     "output_type": "display_data"
    }
   ],
   "source": [
    "import matplotlib.pyplot as plt\n",
    "\n",
    "plt.figure(figsize=(10, 5))\n",
    "plt.barh(lasso_results['Feature'], lasso_results['Coefficient'], color='blue')\n",
    "plt.xlabel('Coefficient Value')\n",
    "plt.ylabel('Feature')\n",
    "plt.title('LASSO Regression Coefficients')\n",
    "plt.axvline(0, color='red', linestyle='dashed')  # Mark zero line\n",
    "plt.show()\n"
   ]
  },
  {
   "cell_type": "markdown",
   "metadata": {},
   "source": [
    "## Elastic Net"
   ]
  },
  {
   "cell_type": "code",
   "execution_count": 171,
   "metadata": {},
   "outputs": [
    {
     "name": "stdout",
     "output_type": "stream",
     "text": [
      "Best parameters for Elastic Net Regression: {'alpha': 0.021209508879201904, 'l1_ratio': 0.9}\n",
      "Best score for Elastic Net Regression: -1.8782034690896423\n"
     ]
    }
   ],
   "source": [
    "# Import necessary libraries\n",
    "\n",
    "# Define parameter grid for Elastic Net (Grid Search)\n",
    "param_grid_elasticnet = {\n",
    "    'alpha': np.logspace(-4, 2, 50),  # Exploring a wider range of alpha values\n",
    "    'l1_ratio': np.linspace(0.1, 0.9, 9)   # Ratio of L1 (Lasso) to L2 (Ridge) penalty\n",
    "}\n",
    "\n",
    "# Initialize Elastic Net model\n",
    "elasticnet_model_tuned = ElasticNet()\n",
    "\n",
    "# Perform Grid Search with cross-validation (cv=5)\n",
    "grid_search_elasticnet = GridSearchCV(\n",
    "    elasticnet_model_tuned, \n",
    "    param_grid_elasticnet, \n",
    "    cv=5, \n",
    "    scoring='neg_mean_squared_error'\n",
    ")\n",
    "\n",
    "# Fit Grid Search on training data\n",
    "grid_search_elasticnet.fit(X_train_scaled, y_train_boxcox)\n",
    "\n",
    "# Extract best parameters and best score\n",
    "best_params_elasticnet = grid_search_elasticnet.best_params_\n",
    "best_score_elasticnet = grid_search_elasticnet.best_score_\n",
    "\n",
    "# Print best parameters and score\n",
    "print(\"Best parameters for Elastic Net Regression:\", best_params_elasticnet)\n",
    "print(\"Best score for Elastic Net Regression:\", best_score_elasticnet)"
   ]
  },
  {
   "cell_type": "code",
   "execution_count": 172,
   "metadata": {},
   "outputs": [],
   "source": [
    "# Train the Best Elastic Net Model\n",
    "# Initialize best Elastic Net model with optimal parameters\n",
    "elasticnet_model_best = ElasticNet(**best_params_elasticnet)\n",
    "\n",
    "# Train the model on scaled training data\n",
    "elasticnet_model_best.fit(X_train_scaled, y_train_boxcox)\n",
    "\n",
    "# Predictions and Error Metrics\n",
    "# Predictions on the training set\n",
    "elasticnet_train_predictions = elasticnet_model_best.predict(X_train_scaled)\n",
    "\n",
    "# Predictions on the test set\n",
    "elasticnet_test_predictions = elasticnet_model_best.predict(X_test_scaled)\n",
    "\n",
    "# Convert Elastic Net predictions back to the original scale\n",
    "elasticnet_train_predictions_original = inv_boxcox(elasticnet_train_predictions, lambda_train)\n",
    "elasticnet_test_predictions_original = inv_boxcox(elasticnet_test_predictions, lambda_train)"
   ]
  },
  {
   "cell_type": "code",
   "execution_count": 173,
   "metadata": {},
   "outputs": [],
   "source": [
    "# Compute Performance Metrics\n",
    "\n",
    "# Mean Squared Error (MSE)\n",
    "elasticnet_train_mse = mean_squared_error(y_train, elasticnet_train_predictions_original)\n",
    "elasticnet_test_mse = mean_squared_error(y_test, elasticnet_test_predictions_original)\n",
    "\n",
    "# Root Mean Squared Error (RMSE)\n",
    "elasticnet_train_rmse = root_mean_squared_error(y_train, elasticnet_train_predictions_original)\n",
    "elasticnet_test_rmse = root_mean_squared_error(y_test, elasticnet_test_predictions_original)\n",
    "\n",
    "# Mean Absolute Error (MAE)\n",
    "elasticnet_train_mae = mean_absolute_error(y_train, elasticnet_train_predictions_original)\n",
    "elasticnet_test_mae = mean_absolute_error(y_test, elasticnet_test_predictions_original)\n",
    "\n",
    "# R² Score (Coefficient of Determination)\n",
    "elasticnet_train_r2 = r2_score(y_train, elasticnet_train_predictions_original)\n",
    "elasticnet_test_r2 = r2_score(y_test, elasticnet_test_predictions_original)\n",
    "\n",
    "# MSE Difference (Overfitting Indicator)\n",
    "elasticnet_mse_difference = elasticnet_train_mse - elasticnet_test_mse\n"
   ]
  },
  {
   "cell_type": "code",
   "execution_count": 174,
   "metadata": {},
   "outputs": [
    {
     "name": "stdout",
     "output_type": "stream",
     "text": [
      "Elastic Net Regression Train MSE: 115.59663160988251\n",
      "Elastic Net Regression Test MSE: 115.4422363260174\n",
      "Elastic Net Regression Train RMSE: 10.751587399536987\n",
      "Elastic Net Regression Test RMSE: 10.744404884683814\n",
      "Elastic Net Regression Train MAE: 6.681857018942922\n",
      "Elastic Net Regression Test MAE: 6.807761652385999\n",
      "Elastic Net Regression Train R²: 0.7634899364931581\n",
      "Elastic Net Regression Test R²: 0.7597539169568428\n",
      "Elastic Net Train-Test MSE Difference: 0.1543952838651137\n"
     ]
    }
   ],
   "source": [
    "print(\"Elastic Net Regression Train MSE:\", elasticnet_train_mse)\n",
    "print(\"Elastic Net Regression Test MSE:\", elasticnet_test_mse)\n",
    "print(\"Elastic Net Regression Train RMSE:\", elasticnet_train_rmse)\n",
    "print(\"Elastic Net Regression Test RMSE:\", elasticnet_test_rmse)\n",
    "print(\"Elastic Net Regression Train MAE:\", elasticnet_train_mae)\n",
    "print(\"Elastic Net Regression Test MAE:\", elasticnet_test_mae)\n",
    "print(\"Elastic Net Regression Train R²:\", elasticnet_train_r2)\n",
    "print(\"Elastic Net Regression Test R²:\", elasticnet_test_r2)\n",
    "print(\"Elastic Net Train-Test MSE Difference:\", elasticnet_mse_difference)"
   ]
  },
  {
   "cell_type": "code",
   "execution_count": 175,
   "metadata": {},
   "outputs": [
    {
     "name": "stdout",
     "output_type": "stream",
     "text": [
      "Selected Features by Elastic Net:\n",
      "{'Distance_km': 2.390624314395032, 'Preparation_Time_min': 0.9853576681548264, 'Courier_Experience_yrs': -0.25685298313810667, 'Weather_Foggy': 0.27204058793300606, 'Weather_Rainy': 0.20563825745844194, 'Weather_Snowy': 0.37693940009818466, 'Weather_Windy': 0.024481535294218253, 'Time_of_Day_Evening': 0.021663111143141792, 'Time_of_Day_Morning': -0.006469338912074892, 'Vehicle_Type_Car': 0.000488868590471145, 'Vehicle_Type_Scooter': -0.06583318513725438, 'Traffic_Level': 0.6454163610041497}\n"
     ]
    }
   ],
   "source": [
    "# Get feature coefficients\n",
    "elasticnet_coefficients = elasticnet_model_best.coef_\n",
    "\n",
    "# Get feature names (if using a DataFrame)\n",
    "feature_names = x_train.columns\n",
    "\n",
    "# Create a dictionary of feature names and their coefficients\n",
    "selected_features = {feature: coef for feature, coef in zip(feature_names, elasticnet_coefficients) if coef != 0}\n",
    "\n",
    "print(\"Selected Features by Elastic Net:\")\n",
    "print(selected_features)"
   ]
  },
  {
   "cell_type": "markdown",
   "metadata": {},
   "source": [
    "## Ridge Regression"
   ]
  },
  {
   "cell_type": "code",
   "execution_count": 176,
   "metadata": {},
   "outputs": [
    {
     "name": "stdout",
     "output_type": "stream",
     "text": [
      "Best parameters for Ridge Regression: {'alpha': 1.4563484775012443}\n",
      "Best score for Ridge Regression: -1.8845310277759597\n"
     ]
    }
   ],
   "source": [
    "# Define hyperparameter grid\n",
    "param_grid_ridge = {\n",
    "    'alpha': np.logspace(-4, 2, 50)  # Regularization strength\n",
    "}\n",
    "\n",
    "# Perform Grid Search for best hyperparameters\n",
    "ridge_model_tuned = Ridge()\n",
    "grid_search_ridge = GridSearchCV(ridge_model_tuned, param_grid_ridge, cv=5, scoring='neg_mean_squared_error')\n",
    "grid_search_ridge.fit(X_train_scaled, y_train_boxcox)\n",
    "\n",
    "# Get best parameters & score\n",
    "best_params_ridge = grid_search_ridge.best_params_\n",
    "best_score_ridge = grid_search_ridge.best_score_\n",
    "\n",
    "print(\"Best parameters for Ridge Regression:\", best_params_ridge)\n",
    "print(\"Best score for Ridge Regression:\", best_score_ridge)"
   ]
  },
  {
   "cell_type": "code",
   "execution_count": 177,
   "metadata": {},
   "outputs": [],
   "source": [
    "# Fit model with best parameters\n",
    "ridge_model_best = Ridge(**best_params_ridge)\n",
    "ridge_model_best.fit(X_train_scaled, y_train_boxcox)\n",
    "\n",
    "# Predictions on the training set\n",
    "ridge_train_predictions = ridge_model_best.predict(X_train_scaled)\n",
    "\n",
    "# Predictions on the test set\n",
    "ridge_test_predictions = ridge_model_best.predict(X_test_scaled)\n",
    "\n",
    "# Convert Ridge predictions back to the original scale\n",
    "ridge_train_predictions_original = inv_boxcox(ridge_train_predictions, lambda_train)\n",
    "ridge_test_predictions_original = inv_boxcox(ridge_test_predictions, lambda_train)"
   ]
  },
  {
   "cell_type": "code",
   "execution_count": 178,
   "metadata": {},
   "outputs": [
    {
     "name": "stdout",
     "output_type": "stream",
     "text": [
      "Ridge Regression Train MSE: 115.83861858986829\n",
      "Ridge Regression Test MSE: 115.2356899679116\n",
      "Ridge Regression Train RMSE: 10.762835062838615\n",
      "Ridge Regression Test RMSE: 10.734788771462231\n",
      "Ridge Regression Train MAE: 6.652015265420341\n",
      "Ridge Regression Test MAE: 6.781910636461802\n",
      "Ridge Regression Train R²: 0.7629948324818456\n",
      "Ridge Regression Test R²: 0.7601837592319146\n",
      "Ridge Train-Test MSE Difference: 0.6029286219566927\n"
     ]
    }
   ],
   "source": [
    "# Compute Performance Metrics\n",
    "ridge_train_mse = mean_squared_error(y_train, ridge_train_predictions_original)\n",
    "ridge_test_mse = mean_squared_error(y_test, ridge_test_predictions_original)\n",
    "\n",
    "ridge_train_rmse = root_mean_squared_error(y_train, ridge_train_predictions_original)\n",
    "ridge_test_rmse = root_mean_squared_error(y_test, ridge_test_predictions_original)\n",
    "\n",
    "ridge_train_mae = mean_absolute_error(y_train, ridge_train_predictions_original)\n",
    "ridge_test_mae = mean_absolute_error(y_test, ridge_test_predictions_original)\n",
    "\n",
    "ridge_train_r2 = r2_score(y_train, ridge_train_predictions_original)\n",
    "ridge_test_r2 = r2_score(y_test, ridge_test_predictions_original)\n",
    "\n",
    "# MSE Difference (Overfitting Indicator)\n",
    "ridge_mse_difference = ridge_train_mse - ridge_test_mse\n",
    "\n",
    "# Print results\n",
    "print(\"Ridge Regression Train MSE:\", ridge_train_mse)\n",
    "print(\"Ridge Regression Test MSE:\", ridge_test_mse)\n",
    "print(\"Ridge Regression Train RMSE:\", ridge_train_rmse)\n",
    "print(\"Ridge Regression Test RMSE:\", ridge_test_rmse)\n",
    "print(\"Ridge Regression Train MAE:\", ridge_train_mae)\n",
    "print(\"Ridge Regression Test MAE:\", ridge_test_mae)\n",
    "print(\"Ridge Regression Train R²:\", ridge_train_r2)\n",
    "print(\"Ridge Regression Test R²:\", ridge_test_r2)\n",
    "print(\"Ridge Train-Test MSE Difference:\", ridge_mse_difference)"
   ]
  },
  {
   "cell_type": "code",
   "execution_count": 179,
   "metadata": {},
   "outputs": [
    {
     "name": "stdout",
     "output_type": "stream",
     "text": [
      "Ridge Regression Coefficients:\n",
      "Distance_km: 2.4056090949423035\n",
      "Preparation_Time_min: 1.0028315522123852\n",
      "Courier_Experience_yrs: -0.27830196054442197\n",
      "Weather_Foggy: 0.2980011510481084\n",
      "Weather_Rainy: 0.24228003662761538\n",
      "Weather_Snowy: 0.40603925920833583\n",
      "Weather_Windy: 0.050732567660390936\n",
      "Time_of_Day_Evening: 0.031549337511679744\n",
      "Time_of_Day_Morning: -0.025392758973664584\n",
      "Time_of_Day_Night: -0.011240115145340684\n",
      "Vehicle_Type_Car: 0.014343509883798646\n",
      "Vehicle_Type_Scooter: -0.07748072930610728\n",
      "Traffic_Level: 0.6677396904364232\n"
     ]
    }
   ],
   "source": [
    "import pandas as pd\n",
    "\n",
    "ridge_coefficients = ridge_model_best.coef_\n",
    "\n",
    "# Convert scaled data back to DataFrame (assuming you know the original feature names)\n",
    "X_train_scaled_df = pd.DataFrame(X_train_scaled, columns=x_train.columns)\n",
    "\n",
    "print(\"Ridge Regression Coefficients:\")\n",
    "for feature, coef in zip(X_train_scaled_df.columns, ridge_coefficients):\n",
    "    print(f\"{feature}: {coef}\")\n"
   ]
  },
  {
   "cell_type": "markdown",
   "metadata": {},
   "source": [
    "## Removing outliers"
   ]
  },
  {
   "cell_type": "code",
   "execution_count": 180,
   "metadata": {},
   "outputs": [],
   "source": [
    "from sklearn.neighbors import LocalOutlierFactor\n",
    "\n",
    "lof_model = LocalOutlierFactor(n_neighbors=20, contamination=0.1)\n",
    "lof_outliers = lof_model.fit_predict(X_train_scaled)\n",
    "\n",
    "lof_outliers_indices = np.where(lof_outliers == -1)[0]\n"
   ]
  },
  {
   "cell_type": "code",
   "execution_count": 181,
   "metadata": {},
   "outputs": [
    {
     "name": "stdout",
     "output_type": "stream",
     "text": [
      "Indices of outliers detected by LOF: [ 13  14  18  19  20  23  35  48  56  62  65  67  69  71  73  79  85  91\n",
      " 126 134 143 163 164 175 189 219 223 230 237 241 244 263 265 270 273 280\n",
      " 290 306 314 322 328 345 383 394 417 419 423 438 439 452 469 471 472 480\n",
      " 482 498 530 534 537 542 552 554 591 605 615 628 632 652 667 690]\n",
      "Number of outliers detected by LOF: 70\n"
     ]
    }
   ],
   "source": [
    "print(\"Indices of outliers detected by LOF:\", lof_outliers_indices)\n",
    "num_outliers = len(lof_outliers_indices)\n",
    "print(\"Number of outliers detected by LOF:\", num_outliers)"
   ]
  },
  {
   "cell_type": "code",
   "execution_count": 182,
   "metadata": {},
   "outputs": [],
   "source": [
    "X_train_scaled_cleaned = np.delete(X_train_scaled, lof_outliers_indices, axis=0)\n",
    "Y_train_cleaned = np.delete(y_train, lof_outliers_indices, axis=0)"
   ]
  },
  {
   "cell_type": "code",
   "execution_count": 183,
   "metadata": {},
   "outputs": [],
   "source": [
    "# Apply Box-Cox transformation to Y_train_cleaned\n",
    "Y_train_cleaned_boxcox, lambda_train = boxcox(Y_train_cleaned)\n",
    "\n",
    "# Transform Y_test using the same lambda value from training\n",
    "Y_test_transformed = boxcox(y_test, lmbda=lambda_train)"
   ]
  },
  {
   "cell_type": "markdown",
   "metadata": {},
   "source": [
    "## Ridge regression after removing outliers"
   ]
  },
  {
   "cell_type": "code",
   "execution_count": 184,
   "metadata": {},
   "outputs": [
    {
     "name": "stdout",
     "output_type": "stream",
     "text": [
      "Best parameters for Ridge Regression: {'alpha': 1.4563484775012443}\n",
      "Best score for Ridge Regression: -1.4020366970358416\n"
     ]
    }
   ],
   "source": [
    "# Define hyperparameter grid\n",
    "param_grid_ridge = {\n",
    "    'alpha': np.logspace(-4, 2, 50)  # Regularization strength\n",
    "}\n",
    "\n",
    "# Perform Grid Search for best hyperparameters\n",
    "ridge_model_tuned = Ridge()\n",
    "grid_search_ridge = GridSearchCV(ridge_model_tuned, param_grid_ridge, cv=5, scoring='neg_mean_squared_error')\n",
    "grid_search_ridge.fit(X_train_scaled_cleaned, Y_train_cleaned_boxcox)\n",
    "\n",
    "# Get best parameters & score\n",
    "best_params_ridge = grid_search_ridge.best_params_\n",
    "best_score_ridge = grid_search_ridge.best_score_\n",
    "\n",
    "print(\"Best parameters for Ridge Regression:\", best_params_ridge)\n",
    "print(\"Best score for Ridge Regression:\", best_score_ridge)"
   ]
  },
  {
   "cell_type": "code",
   "execution_count": 185,
   "metadata": {},
   "outputs": [],
   "source": [
    "# Fit model with best parameters\n",
    "ridge_model_best = Ridge(**best_params_ridge)\n",
    "ridge_model_best.fit(X_train_scaled_cleaned, Y_train_cleaned_boxcox)\n",
    "\n",
    "# Predictions on the training set\n",
    "ridge_train_predictions = ridge_model_best.predict(X_train_scaled_cleaned)\n",
    "\n",
    "# Predictions on the test set\n",
    "ridge_test_predictions = ridge_model_best.predict(X_test_scaled)\n",
    "\n",
    "# Convert Ridge predictions back to the original scale\n",
    "ridge_train_predictions_original = inv_boxcox(ridge_train_predictions, lambda_train)\n",
    "ridge_test_predictions_original = inv_boxcox(ridge_test_predictions, lambda_train)"
   ]
  },
  {
   "cell_type": "code",
   "execution_count": 186,
   "metadata": {},
   "outputs": [
    {
     "name": "stdout",
     "output_type": "stream",
     "text": [
      "Ridge Regression Train MSE: 112.85674408316855\n",
      "Ridge Regression Test MSE: 116.23998609485612\n",
      "Ridge Regression Train RMSE: 10.623405484267677\n",
      "Ridge Regression Test RMSE: 10.781464932691481\n",
      "Ridge Regression Train MAE: 6.536611478399919\n",
      "Ridge Regression Test MAE: 6.733585554351576\n",
      "Ridge Regression Train R²: 0.766050607890029\n",
      "Ridge Regression Test R²: 0.7580937251300764\n",
      "Ridge Train-Test MSE Difference: -3.383242011687571\n"
     ]
    }
   ],
   "source": [
    "# Compute Performance Metrics\n",
    "ridge_train_mse = mean_squared_error(Y_train_cleaned, ridge_train_predictions_original)\n",
    "ridge_test_mse = mean_squared_error(y_test, ridge_test_predictions_original)\n",
    "\n",
    "ridge_train_rmse = root_mean_squared_error(Y_train_cleaned, ridge_train_predictions_original)\n",
    "ridge_test_rmse = root_mean_squared_error(y_test, ridge_test_predictions_original)\n",
    "\n",
    "ridge_train_mae = mean_absolute_error(Y_train_cleaned, ridge_train_predictions_original)\n",
    "ridge_test_mae = mean_absolute_error(y_test, ridge_test_predictions_original)\n",
    "\n",
    "ridge_train_r2 = r2_score(Y_train_cleaned, ridge_train_predictions_original)\n",
    "ridge_test_r2 = r2_score(y_test, ridge_test_predictions_original)\n",
    "\n",
    "# MSE Difference (Overfitting Indicator)\n",
    "ridge_mse_difference = ridge_train_mse - ridge_test_mse\n",
    "\n",
    "# Print results\n",
    "print(\"Ridge Regression Train MSE:\", ridge_train_mse)\n",
    "print(\"Ridge Regression Test MSE:\", ridge_test_mse)\n",
    "print(\"Ridge Regression Train RMSE:\", ridge_train_rmse)\n",
    "print(\"Ridge Regression Test RMSE:\", ridge_test_rmse)\n",
    "print(\"Ridge Regression Train MAE:\", ridge_train_mae)\n",
    "print(\"Ridge Regression Test MAE:\", ridge_test_mae)\n",
    "print(\"Ridge Regression Train R²:\", ridge_train_r2)\n",
    "print(\"Ridge Regression Test R²:\", ridge_test_r2)\n",
    "print(\"Ridge Train-Test MSE Difference:\", ridge_mse_difference)"
   ]
  },
  {
   "cell_type": "markdown",
   "metadata": {},
   "source": [
    "## Ridge regression after removing outliers"
   ]
  },
  {
   "cell_type": "code",
   "execution_count": 187,
   "metadata": {},
   "outputs": [
    {
     "name": "stdout",
     "output_type": "stream",
     "text": [
      "Best parameters for Lasso Regression: {'alpha': 0.012067926406393288}\n",
      "Best score for Lasso Regression: -1.4066121858293106\n"
     ]
    }
   ],
   "source": [
    "# LASSO REGRESSION\n",
    "\n",
    "param_grid_lasso = {\n",
    "    'alpha': np.logspace(-4, 2, 50)\n",
    "}\n",
    "\n",
    "lasso_model_tuned = Lasso(max_iter=5000)\n",
    "grid_search_lasso = GridSearchCV(lasso_model_tuned, param_grid_lasso, cv=10, scoring='neg_mean_squared_error')\n",
    "grid_search_lasso.fit(X_train_scaled_cleaned, Y_train_cleaned_boxcox)\n",
    "\n",
    "best_params_lasso = grid_search_lasso.best_params_\n",
    "best_score_lasso = grid_search_lasso.best_score_\n",
    "\n",
    "print(\"Best parameters for Lasso Regression:\", best_params_lasso)\n",
    "print(\"Best score for Lasso Regression:\", best_score_lasso)"
   ]
  },
  {
   "cell_type": "code",
   "execution_count": 188,
   "metadata": {},
   "outputs": [],
   "source": [
    "lasso_model_best = Lasso(**best_params_lasso,max_iter=5000)\n",
    "lasso_model_best.fit(X_train_scaled_cleaned, Y_train_cleaned_boxcox)\n",
    "\n",
    "# Predictions on the training set\n",
    "lasso_train_predictions = lasso_model_best.predict(X_train_scaled_cleaned)\n",
    "\n",
    "# Predictions on the test set\n",
    "lasso_test_predictions = lasso_model_best.predict(X_test_scaled)\n",
    "\n",
    "from scipy.special import inv_boxcox\n",
    "\n",
    "# Convert Lasso predictions back to the original scale\n",
    "lasso_train_predictions_original = inv_boxcox(lasso_train_predictions, lambda_train)\n",
    "lasso_test_predictions_original = inv_boxcox(lasso_test_predictions, lambda_train)"
   ]
  },
  {
   "cell_type": "code",
   "execution_count": 189,
   "metadata": {},
   "outputs": [
    {
     "name": "stdout",
     "output_type": "stream",
     "text": [
      "Lasso Regression Train MSE: 112.76604409431582\n",
      "Lasso Regression Train RMSE: 10.6191357508187\n",
      "Lasso Regression Train MAE: 6.532261906472082\n",
      "Lasso Regression Train R²: 0.7662386268465288\n",
      "Lasso Regression Test MSE: 115.71836594223132\n",
      "Lasso Regression Test RMSE: 10.75724713587223\n",
      "Lasso Regression Test MAE: 6.738885693241723\n",
      "Lasso Regression Test R²: 0.7591792654183863\n"
     ]
    }
   ],
   "source": [
    "# MSE for training and test sets\n",
    "lasso_train_mse = mean_squared_error(Y_train_cleaned, lasso_train_predictions_original)\n",
    "lasso_test_mse = mean_squared_error(y_test, lasso_test_predictions_original)\n",
    "\n",
    "# RMSE for training and test sets\n",
    "lasso_train_rmse = root_mean_squared_error(Y_train_cleaned, lasso_train_predictions_original)\n",
    "lasso_test_rmse = root_mean_squared_error(y_test, lasso_test_predictions_original)\n",
    "\n",
    "# MAE for training and test sets\n",
    "lasso_train_mae = mean_absolute_error(Y_train_cleaned, lasso_train_predictions_original)\n",
    "lasso_test_mae = mean_absolute_error(y_test, lasso_test_predictions_original)\n",
    "\n",
    "# R² for training and test sets\n",
    "lasso_train_r2 = r2_score(Y_train_cleaned, lasso_train_predictions_original)\n",
    "lasso_test_r2 = r2_score(y_test, lasso_test_predictions_original)\n",
    "\n",
    "\n",
    "print(\"Lasso Regression Train MSE:\", lasso_train_mse)\n",
    "print(\"Lasso Regression Train RMSE:\", lasso_train_rmse)\n",
    "print(\"Lasso Regression Train MAE:\", lasso_train_mae)\n",
    "print(\"Lasso Regression Train R²:\", lasso_train_r2)\n",
    "\n",
    "print(\"Lasso Regression Test MSE:\", lasso_test_mse)\n",
    "print(\"Lasso Regression Test RMSE:\", lasso_test_rmse)\n",
    "print(\"Lasso Regression Test MAE:\", lasso_test_mae)\n",
    "print(\"Lasso Regression Test R²:\", lasso_test_r2)"
   ]
  },
  {
   "cell_type": "markdown",
   "metadata": {},
   "source": [
    "## MLR"
   ]
  },
  {
   "cell_type": "code",
   "execution_count": 190,
   "metadata": {},
   "outputs": [
    {
     "data": {
      "text/html": [
       "<style>#sk-container-id-7 {\n",
       "  /* Definition of color scheme common for light and dark mode */\n",
       "  --sklearn-color-text: #000;\n",
       "  --sklearn-color-text-muted: #666;\n",
       "  --sklearn-color-line: gray;\n",
       "  /* Definition of color scheme for unfitted estimators */\n",
       "  --sklearn-color-unfitted-level-0: #fff5e6;\n",
       "  --sklearn-color-unfitted-level-1: #f6e4d2;\n",
       "  --sklearn-color-unfitted-level-2: #ffe0b3;\n",
       "  --sklearn-color-unfitted-level-3: chocolate;\n",
       "  /* Definition of color scheme for fitted estimators */\n",
       "  --sklearn-color-fitted-level-0: #f0f8ff;\n",
       "  --sklearn-color-fitted-level-1: #d4ebff;\n",
       "  --sklearn-color-fitted-level-2: #b3dbfd;\n",
       "  --sklearn-color-fitted-level-3: cornflowerblue;\n",
       "\n",
       "  /* Specific color for light theme */\n",
       "  --sklearn-color-text-on-default-background: var(--sg-text-color, var(--theme-code-foreground, var(--jp-content-font-color1, black)));\n",
       "  --sklearn-color-background: var(--sg-background-color, var(--theme-background, var(--jp-layout-color0, white)));\n",
       "  --sklearn-color-border-box: var(--sg-text-color, var(--theme-code-foreground, var(--jp-content-font-color1, black)));\n",
       "  --sklearn-color-icon: #696969;\n",
       "\n",
       "  @media (prefers-color-scheme: dark) {\n",
       "    /* Redefinition of color scheme for dark theme */\n",
       "    --sklearn-color-text-on-default-background: var(--sg-text-color, var(--theme-code-foreground, var(--jp-content-font-color1, white)));\n",
       "    --sklearn-color-background: var(--sg-background-color, var(--theme-background, var(--jp-layout-color0, #111)));\n",
       "    --sklearn-color-border-box: var(--sg-text-color, var(--theme-code-foreground, var(--jp-content-font-color1, white)));\n",
       "    --sklearn-color-icon: #878787;\n",
       "  }\n",
       "}\n",
       "\n",
       "#sk-container-id-7 {\n",
       "  color: var(--sklearn-color-text);\n",
       "}\n",
       "\n",
       "#sk-container-id-7 pre {\n",
       "  padding: 0;\n",
       "}\n",
       "\n",
       "#sk-container-id-7 input.sk-hidden--visually {\n",
       "  border: 0;\n",
       "  clip: rect(1px 1px 1px 1px);\n",
       "  clip: rect(1px, 1px, 1px, 1px);\n",
       "  height: 1px;\n",
       "  margin: -1px;\n",
       "  overflow: hidden;\n",
       "  padding: 0;\n",
       "  position: absolute;\n",
       "  width: 1px;\n",
       "}\n",
       "\n",
       "#sk-container-id-7 div.sk-dashed-wrapped {\n",
       "  border: 1px dashed var(--sklearn-color-line);\n",
       "  margin: 0 0.4em 0.5em 0.4em;\n",
       "  box-sizing: border-box;\n",
       "  padding-bottom: 0.4em;\n",
       "  background-color: var(--sklearn-color-background);\n",
       "}\n",
       "\n",
       "#sk-container-id-7 div.sk-container {\n",
       "  /* jupyter's `normalize.less` sets `[hidden] { display: none; }`\n",
       "     but bootstrap.min.css set `[hidden] { display: none !important; }`\n",
       "     so we also need the `!important` here to be able to override the\n",
       "     default hidden behavior on the sphinx rendered scikit-learn.org.\n",
       "     See: https://github.com/scikit-learn/scikit-learn/issues/21755 */\n",
       "  display: inline-block !important;\n",
       "  position: relative;\n",
       "}\n",
       "\n",
       "#sk-container-id-7 div.sk-text-repr-fallback {\n",
       "  display: none;\n",
       "}\n",
       "\n",
       "div.sk-parallel-item,\n",
       "div.sk-serial,\n",
       "div.sk-item {\n",
       "  /* draw centered vertical line to link estimators */\n",
       "  background-image: linear-gradient(var(--sklearn-color-text-on-default-background), var(--sklearn-color-text-on-default-background));\n",
       "  background-size: 2px 100%;\n",
       "  background-repeat: no-repeat;\n",
       "  background-position: center center;\n",
       "}\n",
       "\n",
       "/* Parallel-specific style estimator block */\n",
       "\n",
       "#sk-container-id-7 div.sk-parallel-item::after {\n",
       "  content: \"\";\n",
       "  width: 100%;\n",
       "  border-bottom: 2px solid var(--sklearn-color-text-on-default-background);\n",
       "  flex-grow: 1;\n",
       "}\n",
       "\n",
       "#sk-container-id-7 div.sk-parallel {\n",
       "  display: flex;\n",
       "  align-items: stretch;\n",
       "  justify-content: center;\n",
       "  background-color: var(--sklearn-color-background);\n",
       "  position: relative;\n",
       "}\n",
       "\n",
       "#sk-container-id-7 div.sk-parallel-item {\n",
       "  display: flex;\n",
       "  flex-direction: column;\n",
       "}\n",
       "\n",
       "#sk-container-id-7 div.sk-parallel-item:first-child::after {\n",
       "  align-self: flex-end;\n",
       "  width: 50%;\n",
       "}\n",
       "\n",
       "#sk-container-id-7 div.sk-parallel-item:last-child::after {\n",
       "  align-self: flex-start;\n",
       "  width: 50%;\n",
       "}\n",
       "\n",
       "#sk-container-id-7 div.sk-parallel-item:only-child::after {\n",
       "  width: 0;\n",
       "}\n",
       "\n",
       "/* Serial-specific style estimator block */\n",
       "\n",
       "#sk-container-id-7 div.sk-serial {\n",
       "  display: flex;\n",
       "  flex-direction: column;\n",
       "  align-items: center;\n",
       "  background-color: var(--sklearn-color-background);\n",
       "  padding-right: 1em;\n",
       "  padding-left: 1em;\n",
       "}\n",
       "\n",
       "\n",
       "/* Toggleable style: style used for estimator/Pipeline/ColumnTransformer box that is\n",
       "clickable and can be expanded/collapsed.\n",
       "- Pipeline and ColumnTransformer use this feature and define the default style\n",
       "- Estimators will overwrite some part of the style using the `sk-estimator` class\n",
       "*/\n",
       "\n",
       "/* Pipeline and ColumnTransformer style (default) */\n",
       "\n",
       "#sk-container-id-7 div.sk-toggleable {\n",
       "  /* Default theme specific background. It is overwritten whether we have a\n",
       "  specific estimator or a Pipeline/ColumnTransformer */\n",
       "  background-color: var(--sklearn-color-background);\n",
       "}\n",
       "\n",
       "/* Toggleable label */\n",
       "#sk-container-id-7 label.sk-toggleable__label {\n",
       "  cursor: pointer;\n",
       "  display: flex;\n",
       "  width: 100%;\n",
       "  margin-bottom: 0;\n",
       "  padding: 0.5em;\n",
       "  box-sizing: border-box;\n",
       "  text-align: center;\n",
       "  align-items: start;\n",
       "  justify-content: space-between;\n",
       "  gap: 0.5em;\n",
       "}\n",
       "\n",
       "#sk-container-id-7 label.sk-toggleable__label .caption {\n",
       "  font-size: 0.6rem;\n",
       "  font-weight: lighter;\n",
       "  color: var(--sklearn-color-text-muted);\n",
       "}\n",
       "\n",
       "#sk-container-id-7 label.sk-toggleable__label-arrow:before {\n",
       "  /* Arrow on the left of the label */\n",
       "  content: \"▸\";\n",
       "  float: left;\n",
       "  margin-right: 0.25em;\n",
       "  color: var(--sklearn-color-icon);\n",
       "}\n",
       "\n",
       "#sk-container-id-7 label.sk-toggleable__label-arrow:hover:before {\n",
       "  color: var(--sklearn-color-text);\n",
       "}\n",
       "\n",
       "/* Toggleable content - dropdown */\n",
       "\n",
       "#sk-container-id-7 div.sk-toggleable__content {\n",
       "  max-height: 0;\n",
       "  max-width: 0;\n",
       "  overflow: hidden;\n",
       "  text-align: left;\n",
       "  /* unfitted */\n",
       "  background-color: var(--sklearn-color-unfitted-level-0);\n",
       "}\n",
       "\n",
       "#sk-container-id-7 div.sk-toggleable__content.fitted {\n",
       "  /* fitted */\n",
       "  background-color: var(--sklearn-color-fitted-level-0);\n",
       "}\n",
       "\n",
       "#sk-container-id-7 div.sk-toggleable__content pre {\n",
       "  margin: 0.2em;\n",
       "  border-radius: 0.25em;\n",
       "  color: var(--sklearn-color-text);\n",
       "  /* unfitted */\n",
       "  background-color: var(--sklearn-color-unfitted-level-0);\n",
       "}\n",
       "\n",
       "#sk-container-id-7 div.sk-toggleable__content.fitted pre {\n",
       "  /* unfitted */\n",
       "  background-color: var(--sklearn-color-fitted-level-0);\n",
       "}\n",
       "\n",
       "#sk-container-id-7 input.sk-toggleable__control:checked~div.sk-toggleable__content {\n",
       "  /* Expand drop-down */\n",
       "  max-height: 200px;\n",
       "  max-width: 100%;\n",
       "  overflow: auto;\n",
       "}\n",
       "\n",
       "#sk-container-id-7 input.sk-toggleable__control:checked~label.sk-toggleable__label-arrow:before {\n",
       "  content: \"▾\";\n",
       "}\n",
       "\n",
       "/* Pipeline/ColumnTransformer-specific style */\n",
       "\n",
       "#sk-container-id-7 div.sk-label input.sk-toggleable__control:checked~label.sk-toggleable__label {\n",
       "  color: var(--sklearn-color-text);\n",
       "  background-color: var(--sklearn-color-unfitted-level-2);\n",
       "}\n",
       "\n",
       "#sk-container-id-7 div.sk-label.fitted input.sk-toggleable__control:checked~label.sk-toggleable__label {\n",
       "  background-color: var(--sklearn-color-fitted-level-2);\n",
       "}\n",
       "\n",
       "/* Estimator-specific style */\n",
       "\n",
       "/* Colorize estimator box */\n",
       "#sk-container-id-7 div.sk-estimator input.sk-toggleable__control:checked~label.sk-toggleable__label {\n",
       "  /* unfitted */\n",
       "  background-color: var(--sklearn-color-unfitted-level-2);\n",
       "}\n",
       "\n",
       "#sk-container-id-7 div.sk-estimator.fitted input.sk-toggleable__control:checked~label.sk-toggleable__label {\n",
       "  /* fitted */\n",
       "  background-color: var(--sklearn-color-fitted-level-2);\n",
       "}\n",
       "\n",
       "#sk-container-id-7 div.sk-label label.sk-toggleable__label,\n",
       "#sk-container-id-7 div.sk-label label {\n",
       "  /* The background is the default theme color */\n",
       "  color: var(--sklearn-color-text-on-default-background);\n",
       "}\n",
       "\n",
       "/* On hover, darken the color of the background */\n",
       "#sk-container-id-7 div.sk-label:hover label.sk-toggleable__label {\n",
       "  color: var(--sklearn-color-text);\n",
       "  background-color: var(--sklearn-color-unfitted-level-2);\n",
       "}\n",
       "\n",
       "/* Label box, darken color on hover, fitted */\n",
       "#sk-container-id-7 div.sk-label.fitted:hover label.sk-toggleable__label.fitted {\n",
       "  color: var(--sklearn-color-text);\n",
       "  background-color: var(--sklearn-color-fitted-level-2);\n",
       "}\n",
       "\n",
       "/* Estimator label */\n",
       "\n",
       "#sk-container-id-7 div.sk-label label {\n",
       "  font-family: monospace;\n",
       "  font-weight: bold;\n",
       "  display: inline-block;\n",
       "  line-height: 1.2em;\n",
       "}\n",
       "\n",
       "#sk-container-id-7 div.sk-label-container {\n",
       "  text-align: center;\n",
       "}\n",
       "\n",
       "/* Estimator-specific */\n",
       "#sk-container-id-7 div.sk-estimator {\n",
       "  font-family: monospace;\n",
       "  border: 1px dotted var(--sklearn-color-border-box);\n",
       "  border-radius: 0.25em;\n",
       "  box-sizing: border-box;\n",
       "  margin-bottom: 0.5em;\n",
       "  /* unfitted */\n",
       "  background-color: var(--sklearn-color-unfitted-level-0);\n",
       "}\n",
       "\n",
       "#sk-container-id-7 div.sk-estimator.fitted {\n",
       "  /* fitted */\n",
       "  background-color: var(--sklearn-color-fitted-level-0);\n",
       "}\n",
       "\n",
       "/* on hover */\n",
       "#sk-container-id-7 div.sk-estimator:hover {\n",
       "  /* unfitted */\n",
       "  background-color: var(--sklearn-color-unfitted-level-2);\n",
       "}\n",
       "\n",
       "#sk-container-id-7 div.sk-estimator.fitted:hover {\n",
       "  /* fitted */\n",
       "  background-color: var(--sklearn-color-fitted-level-2);\n",
       "}\n",
       "\n",
       "/* Specification for estimator info (e.g. \"i\" and \"?\") */\n",
       "\n",
       "/* Common style for \"i\" and \"?\" */\n",
       "\n",
       ".sk-estimator-doc-link,\n",
       "a:link.sk-estimator-doc-link,\n",
       "a:visited.sk-estimator-doc-link {\n",
       "  float: right;\n",
       "  font-size: smaller;\n",
       "  line-height: 1em;\n",
       "  font-family: monospace;\n",
       "  background-color: var(--sklearn-color-background);\n",
       "  border-radius: 1em;\n",
       "  height: 1em;\n",
       "  width: 1em;\n",
       "  text-decoration: none !important;\n",
       "  margin-left: 0.5em;\n",
       "  text-align: center;\n",
       "  /* unfitted */\n",
       "  border: var(--sklearn-color-unfitted-level-1) 1pt solid;\n",
       "  color: var(--sklearn-color-unfitted-level-1);\n",
       "}\n",
       "\n",
       ".sk-estimator-doc-link.fitted,\n",
       "a:link.sk-estimator-doc-link.fitted,\n",
       "a:visited.sk-estimator-doc-link.fitted {\n",
       "  /* fitted */\n",
       "  border: var(--sklearn-color-fitted-level-1) 1pt solid;\n",
       "  color: var(--sklearn-color-fitted-level-1);\n",
       "}\n",
       "\n",
       "/* On hover */\n",
       "div.sk-estimator:hover .sk-estimator-doc-link:hover,\n",
       ".sk-estimator-doc-link:hover,\n",
       "div.sk-label-container:hover .sk-estimator-doc-link:hover,\n",
       ".sk-estimator-doc-link:hover {\n",
       "  /* unfitted */\n",
       "  background-color: var(--sklearn-color-unfitted-level-3);\n",
       "  color: var(--sklearn-color-background);\n",
       "  text-decoration: none;\n",
       "}\n",
       "\n",
       "div.sk-estimator.fitted:hover .sk-estimator-doc-link.fitted:hover,\n",
       ".sk-estimator-doc-link.fitted:hover,\n",
       "div.sk-label-container:hover .sk-estimator-doc-link.fitted:hover,\n",
       ".sk-estimator-doc-link.fitted:hover {\n",
       "  /* fitted */\n",
       "  background-color: var(--sklearn-color-fitted-level-3);\n",
       "  color: var(--sklearn-color-background);\n",
       "  text-decoration: none;\n",
       "}\n",
       "\n",
       "/* Span, style for the box shown on hovering the info icon */\n",
       ".sk-estimator-doc-link span {\n",
       "  display: none;\n",
       "  z-index: 9999;\n",
       "  position: relative;\n",
       "  font-weight: normal;\n",
       "  right: .2ex;\n",
       "  padding: .5ex;\n",
       "  margin: .5ex;\n",
       "  width: min-content;\n",
       "  min-width: 20ex;\n",
       "  max-width: 50ex;\n",
       "  color: var(--sklearn-color-text);\n",
       "  box-shadow: 2pt 2pt 4pt #999;\n",
       "  /* unfitted */\n",
       "  background: var(--sklearn-color-unfitted-level-0);\n",
       "  border: .5pt solid var(--sklearn-color-unfitted-level-3);\n",
       "}\n",
       "\n",
       ".sk-estimator-doc-link.fitted span {\n",
       "  /* fitted */\n",
       "  background: var(--sklearn-color-fitted-level-0);\n",
       "  border: var(--sklearn-color-fitted-level-3);\n",
       "}\n",
       "\n",
       ".sk-estimator-doc-link:hover span {\n",
       "  display: block;\n",
       "}\n",
       "\n",
       "/* \"?\"-specific style due to the `<a>` HTML tag */\n",
       "\n",
       "#sk-container-id-7 a.estimator_doc_link {\n",
       "  float: right;\n",
       "  font-size: 1rem;\n",
       "  line-height: 1em;\n",
       "  font-family: monospace;\n",
       "  background-color: var(--sklearn-color-background);\n",
       "  border-radius: 1rem;\n",
       "  height: 1rem;\n",
       "  width: 1rem;\n",
       "  text-decoration: none;\n",
       "  /* unfitted */\n",
       "  color: var(--sklearn-color-unfitted-level-1);\n",
       "  border: var(--sklearn-color-unfitted-level-1) 1pt solid;\n",
       "}\n",
       "\n",
       "#sk-container-id-7 a.estimator_doc_link.fitted {\n",
       "  /* fitted */\n",
       "  border: var(--sklearn-color-fitted-level-1) 1pt solid;\n",
       "  color: var(--sklearn-color-fitted-level-1);\n",
       "}\n",
       "\n",
       "/* On hover */\n",
       "#sk-container-id-7 a.estimator_doc_link:hover {\n",
       "  /* unfitted */\n",
       "  background-color: var(--sklearn-color-unfitted-level-3);\n",
       "  color: var(--sklearn-color-background);\n",
       "  text-decoration: none;\n",
       "}\n",
       "\n",
       "#sk-container-id-7 a.estimator_doc_link.fitted:hover {\n",
       "  /* fitted */\n",
       "  background-color: var(--sklearn-color-fitted-level-3);\n",
       "}\n",
       "</style><div id=\"sk-container-id-7\" class=\"sk-top-container\"><div class=\"sk-text-repr-fallback\"><pre>LinearRegression()</pre><b>In a Jupyter environment, please rerun this cell to show the HTML representation or trust the notebook. <br />On GitHub, the HTML representation is unable to render, please try loading this page with nbviewer.org.</b></div><div class=\"sk-container\" hidden><div class=\"sk-item\"><div class=\"sk-estimator fitted sk-toggleable\"><input class=\"sk-toggleable__control sk-hidden--visually\" id=\"sk-estimator-id-7\" type=\"checkbox\" checked><label for=\"sk-estimator-id-7\" class=\"sk-toggleable__label fitted sk-toggleable__label-arrow\"><div><div>LinearRegression</div></div><div><a class=\"sk-estimator-doc-link fitted\" rel=\"noreferrer\" target=\"_blank\" href=\"https://scikit-learn.org/1.6/modules/generated/sklearn.linear_model.LinearRegression.html\">?<span>Documentation for LinearRegression</span></a><span class=\"sk-estimator-doc-link fitted\">i<span>Fitted</span></span></div></label><div class=\"sk-toggleable__content fitted\"><pre>LinearRegression()</pre></div> </div></div></div></div>"
      ],
      "text/plain": [
       "LinearRegression()"
      ]
     },
     "execution_count": 190,
     "metadata": {},
     "output_type": "execute_result"
    }
   ],
   "source": [
    "from sklearn.linear_model import LinearRegression\n",
    "mlr = LinearRegression()\n",
    "mlr.fit(X_train_scaled_cleaned, Y_train_cleaned_boxcox)"
   ]
  },
  {
   "cell_type": "code",
   "execution_count": 191,
   "metadata": {},
   "outputs": [],
   "source": [
    "# Predictions on the training set\n",
    "mlr_train_predictions = mlr.predict(X_train_scaled_cleaned)\n",
    "\n",
    "# Predictions on the test set\n",
    "mlr_test_predictions = mlr.predict(X_test_scaled)\n",
    "\n",
    "from scipy.special import inv_boxcox\n",
    "\n",
    "# Convert Lasso predictions back to the original scale\n",
    "mlr_train_predictions_original = inv_boxcox(mlr_train_predictions, lambda_train)\n",
    "mlr_test_predictions_original = inv_boxcox(mlr_test_predictions, lambda_train)"
   ]
  },
  {
   "cell_type": "code",
   "execution_count": 192,
   "metadata": {},
   "outputs": [
    {
     "name": "stdout",
     "output_type": "stream",
     "text": [
      "mlr Regression Train MSE: 112.93830884626936\n",
      "mlr Regression Train RMSE: 10.62724370880189\n",
      "mlr Regression Train MAE: 6.534829951648994\n",
      "mlr Regression Train R²: 0.7658815260429489\n",
      "mlr Regression Test MSE: 116.29217369335313\n",
      "mlr Regression Test RMSE: 10.783884907274981\n",
      "mlr Regression Test MAE: 6.7317752778042514\n",
      "mlr Regression Test R²: 0.7579851178601434\n"
     ]
    }
   ],
   "source": [
    "# MSE for training and test sets\n",
    "mlr_train_mse = mean_squared_error(Y_train_cleaned, mlr_train_predictions_original)\n",
    "mlr_test_mse = mean_squared_error(y_test, mlr_test_predictions_original)\n",
    "\n",
    "# RMSE for training and test sets\n",
    "mlr_train_rmse = root_mean_squared_error(Y_train_cleaned, mlr_train_predictions_original)\n",
    "mlr_test_rmse = root_mean_squared_error(y_test, mlr_test_predictions_original)\n",
    "\n",
    "# MAE for training and test sets\n",
    "mlr_train_mae = mean_absolute_error(Y_train_cleaned, mlr_train_predictions_original)\n",
    "mlr_test_mae = mean_absolute_error(y_test, mlr_test_predictions_original)\n",
    "\n",
    "# R² for training and test sets\n",
    "mlr_train_r2 = r2_score(Y_train_cleaned, mlr_train_predictions_original)\n",
    "mlr_test_r2 = r2_score(y_test, mlr_test_predictions_original)\n",
    "\n",
    "\n",
    "print(\"mlr Regression Train MSE:\", mlr_train_mse)\n",
    "print(\"mlr Regression Train RMSE:\", mlr_train_rmse)\n",
    "print(\"mlr Regression Train MAE:\", mlr_train_mae)\n",
    "print(\"mlr Regression Train R²:\", mlr_train_r2)\n",
    "\n",
    "print(\"mlr Regression Test MSE:\", mlr_test_mse)\n",
    "print(\"mlr Regression Test RMSE:\", mlr_test_rmse)\n",
    "print(\"mlr Regression Test MAE:\", mlr_test_mae)\n",
    "print(\"mlr Regression Test R²:\", mlr_test_r2)"
   ]
  },
  {
   "cell_type": "code",
   "execution_count": null,
   "metadata": {},
   "outputs": [],
   "source": []
  }
 ],
 "metadata": {
  "colab": {
   "provenance": []
  },
  "kernelspec": {
   "display_name": "Python 3 (ipykernel)",
   "language": "python",
   "name": "python3"
  },
  "language_info": {
   "codemirror_mode": {
    "name": "ipython",
    "version": 3
   },
   "file_extension": ".py",
   "mimetype": "text/x-python",
   "name": "python",
   "nbconvert_exporter": "python",
   "pygments_lexer": "ipython3",
   "version": "3.12.2"
  }
 },
 "nbformat": 4,
 "nbformat_minor": 4
}
